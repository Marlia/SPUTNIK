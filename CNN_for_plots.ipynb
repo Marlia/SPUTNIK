{
 "cells": [
  {
   "cell_type": "code",
   "execution_count": null,
   "id": "7cce5808",
   "metadata": {},
   "outputs": [],
   "source": [
    "import keras\n",
    "from keras import layers\n",
    "from keras.preprocessing.image import ImageDataGenerator"
   ]
  },
  {
   "cell_type": "code",
   "execution_count": null,
   "id": "94a32065",
   "metadata": {},
   "outputs": [],
   "source": [
    "img_width, img_height = 80, 80\n",
    "input_shape = (img_width, img_height, 3)"
   ]
  },
  {
   "cell_type": "code",
   "execution_count": null,
   "id": "dcf3e1a4",
   "metadata": {},
   "outputs": [],
   "source": [
    "#Архитектура сети\n",
    "in_layer = layers.Input(shape = (input_shape))\n",
    "\n",
    "l = layers.Conv2D(filters = 64, kernel_size=(3,3), padding=\"same\", activation=\"relu\")(in_layer)\n",
    "l = layers.MaxPool2D(pool_size=(2,2))(l)\n",
    "l = layers.BatchNormalization()(l)\n",
    "\n",
    "l = layers.Conv2D(filters = 32, kernel_size=(3,3), padding=\"same\", activation=\"relu\")(l)\n",
    "l = layers.MaxPool2D(pool_size = (2,2))(l)\n",
    "l = layers.BatchNormalization()(l)\n",
    "\n",
    "l = layers.Conv2D(filters = 64, kernel_size=(5,5), padding=\"same\", activation=\"relu\")(l)\n",
    "l = layers.MaxPool2D(pool_size = (2,2))(l)\n",
    "l = layers.BatchNormalization()(l)\n",
    "\n",
    "l = layers.Conv2D(filters = 128, kernel_size=(5,5), padding=\"same\", activation=\"relu\")(l)\n",
    "l = layers.MaxPool2D(pool_size = (2,2))(l)\n",
    "l = layers.BatchNormalization()(l)\n",
    "\n",
    "l = layers.GlobalAveragePooling2D()(l)\n",
    "\n",
    "l = layers.Flatten()(l)\n",
    "\n",
    "l = layers.Dense(256, activation=\"relu\")(l)\n",
    "l = layers.Dense(128, activation=\"relu\")(l)\n",
    "\n",
    "out_layer = layers.Dense(6, activation=\"softmax\")(l)\n",
    "\n",
    "model = keras.Model(in_layer, out_layer)\n",
    "model.summary()"
   ]
  },
  {
   "cell_type": "code",
   "execution_count": null,
   "id": "8c07157c",
   "metadata": {},
   "outputs": [],
   "source": [
    "#Компиляция модели\n",
    "loss = keras.losses.categorical_crossentropy\n",
    "optimizer = keras.optimizers.Adam(learning_rate=0.001)\n",
    "model.compile(loss=loss, optimizer=optimizer, metrics=[\"accuracy\"])"
   ]
  },
  {
   "cell_type": "code",
   "execution_count": null,
   "id": "242644c4",
   "metadata": {},
   "outputs": [],
   "source": [
    "#Загрузка датасета для обучения модели (Необходимо заранее выполнить все ячейки файла \"Plots_generator\")\n",
    "datagen = ImageDataGenerator(rescale=(1./255)) \n",
    "train_generator = datagen.flow_from_directory(\"train\", target_size=(img_width, img_height),\n",
    "                                             batch_size=10, class_mode=\"categorical\")"
   ]
  },
  {
   "cell_type": "code",
   "execution_count": null,
   "id": "ad4f9c0a",
   "metadata": {},
   "outputs": [],
   "source": [
    "model.fit(train_generator, epochs=30,shuffle=True)"
   ]
  },
  {
   "cell_type": "code",
   "execution_count": null,
   "id": "ed146a3c",
   "metadata": {},
   "outputs": [],
   "source": [
    "#Создание тестового набора данных для анализа точности модели на новых данных.\n",
    "import os, shutil, random\n",
    "import numpy as np\n",
    "import matplotlib.pyplot as plt\n",
    "dir_name_for_test = \"test\"\n",
    "if os.path.exists(dir_name_for_test):\n",
    "    shutil.rmtree(dir_name_for_test)\n",
    "os.makedirs(dir_name_for_test)\n",
    "for i in range(2,8):\n",
    "    os.makedirs(os.path.join(dir_name_for_test, f\"{i}f_plots\"))\n",
    "\n",
    "X = np.arange(0,41)\n",
    "for p in range(2, 8):\n",
    "\n",
    "    for z in range(5):\n",
    "        fig = plt.figure(figsize=(2,2),dpi=40)\n",
    "        axes  = fig.add_axes([0,0,1,1])\n",
    "    \n",
    "        for i in range(0, p):\n",
    "            i = (X*random.uniform(0.1,20))**2 \n",
    "            plt.plot(X, i)\n",
    "    \n",
    "        fig.savefig(f\"test/{p}f_plots/a{z}.png\")"
   ]
  },
  {
   "cell_type": "code",
   "execution_count": null,
   "id": "26f36605",
   "metadata": {},
   "outputs": [],
   "source": [
    "test_generator = datagen.flow_from_directory(\"test\", target_size=(img_width, img_height),\n",
    "                                             batch_size=10, class_mode=\"categorical\")"
   ]
  },
  {
   "cell_type": "code",
   "execution_count": null,
   "id": "76e2c74a",
   "metadata": {},
   "outputs": [],
   "source": [
    "scores = model.evaluate(test_generator)\n",
    "print(\"Точноть модели на новых данных составляет:\",(scores[1]*100),\"%\")"
   ]
  },
  {
   "cell_type": "code",
   "execution_count": null,
   "id": "111b4a68",
   "metadata": {},
   "outputs": [],
   "source": [
    "#Для эксперемента попробуем нарисовать графики с функциями менее похожими на предыдущие. \n",
    "dir_name_for_test2 = \"test2\"\n",
    "if os.path.exists(dir_name_for_test2):\n",
    "    shutil.rmtree(dir_name_for_test2)\n",
    "os.makedirs(dir_name_for_test2)\n",
    "for i in range(2,8):\n",
    "    os.makedirs(os.path.join(dir_name_for_test2, f\"{i}f_plots\"))\n",
    "\n",
    "X = np.arange(0,41)\n",
    "for p in range(2, 8):\n",
    "\n",
    "    for z in range(5):\n",
    "        fig = plt.figure(figsize=(2,2),dpi=40)\n",
    "        axes  = fig.add_axes([0,0,1,1])\n",
    "    \n",
    "        for i in range(0, p):\n",
    "            i = 4*((X*random.uniform(0.1,20))**1.5) \n",
    "            plt.plot(X, i)\n",
    "    \n",
    "        fig.savefig(f\"test2/{p}f_plots/a{z}.png\")"
   ]
  },
  {
   "cell_type": "code",
   "execution_count": null,
   "id": "691c8b35",
   "metadata": {},
   "outputs": [],
   "source": [
    "test2_generator = datagen.flow_from_directory(\"test2\", target_size=(img_width, img_height),\n",
    "                                             batch_size=10, class_mode=\"categorical\")"
   ]
  },
  {
   "cell_type": "code",
   "execution_count": null,
   "id": "f25363d2",
   "metadata": {},
   "outputs": [],
   "source": [
    "scores = model.evaluate(test2_generator)\n",
    "print(\"Точноть модели на новых данных составляет:\",(scores[1]*100),\"%\")"
   ]
  },
  {
   "cell_type": "code",
   "execution_count": null,
   "id": "5496bbe7",
   "metadata": {},
   "outputs": [],
   "source": [
    "#Спасибо за проверку моего решения тестового задания. Я буду очень рад попасть к вам на стажировку.\n",
    "#Павлов Владимир Вячеславович, 89521605217, https://t.me/TGsgn"
   ]
  }
 ],
 "metadata": {
  "kernelspec": {
   "display_name": "Python 3 (ipykernel)",
   "language": "python",
   "name": "python3"
  },
  "language_info": {
   "codemirror_mode": {
    "name": "ipython",
    "version": 3
   },
   "file_extension": ".py",
   "mimetype": "text/x-python",
   "name": "python",
   "nbconvert_exporter": "python",
   "pygments_lexer": "ipython3",
   "version": "3.9.12"
  }
 },
 "nbformat": 4,
 "nbformat_minor": 5
}
